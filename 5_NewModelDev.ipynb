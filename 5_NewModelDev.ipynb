{
 "cells": [
  {
   "cell_type": "code",
   "execution_count": 1,
   "metadata": {},
   "outputs": [],
   "source": [
    "%matplotlib inline\n",
    "%load_ext autoreload\n",
    "%autoreload 2"
   ]
  },
  {
   "cell_type": "code",
   "execution_count": 2,
   "metadata": {},
   "outputs": [
    {
     "name": "stderr",
     "output_type": "stream",
     "text": [
      "Using TensorFlow backend.\n"
     ]
    }
   ],
   "source": [
    "import tensorflow as tf\n",
    "tf.python.control_flow_ops = tf\n",
    "from keras.models import Sequential\n",
    "from keras.layers import Flatten, Dense, Lambda, Cropping2D, Convolution2D, Dropout\n",
    "from keras.layers.pooling import MaxPooling2D\n",
    "from keras.callbacks import ModelCheckpoint"
   ]
  },
  {
   "cell_type": "code",
   "execution_count": null,
   "metadata": {},
   "outputs": [],
   "source": []
  },
  {
   "cell_type": "code",
   "execution_count": 3,
   "metadata": {},
   "outputs": [],
   "source": [
    "def real_nvidia_model(prob=0.5, dropout_for_dense=False):\n",
    "    \n",
    "    model = Sequential()\n",
    "    \n",
    "    model.add( Lambda(lambda x: x / 255. - 0.5, input_shape=(66, 200, 3)) )\n",
    "    \n",
    "    model.add( Convolution2D(24, 5, 5, subsample=(2, 2), activation='relu') )\n",
    "    model.add( Dropout(prob) )\n",
    "    \n",
    "    model.add( Convolution2D(36, 5, 5, subsample=(2, 2), activation='relu') )\n",
    "    model.add( Dropout(prob) )\n",
    "    \n",
    "    model.add( Convolution2D(48, 5, 5, subsample=(2, 2), activation='relu') )\n",
    "    model.add( Dropout(prob) )\n",
    "    \n",
    "    model.add( Convolution2D(64, 3, 3, subsample=(1, 1), activation='relu') )\n",
    "    model.add( Dropout(prob) )\n",
    "    \n",
    "    model.add( Convolution2D(64, 3, 3, subsample=(1, 1), activation='relu') )\n",
    "    model.add( Dropout(prob) )\n",
    "    \n",
    "    model.add( Flatten() )\n",
    "\n",
    "    model.add( Dense(100, activation='relu') )\n",
    "    if dropout_for_dense:\n",
    "        model.add(Dropout(prob))\n",
    "        \n",
    "    model.add( Dense(50, activation='relu') )\n",
    "    if dropout_for_dense:\n",
    "        model.add(Dropout(prob))\n",
    "        \n",
    "    model.add( Dense(10, activation='relu') )\n",
    "    if dropout_for_dense:\n",
    "        model.add(Dropout(prob))\n",
    "    \n",
    "    model.add( Dense(1) )\n",
    "\n",
    "    model.compile(loss='mse', optimizer='adam')\n",
    "    \n",
    "    return model"
   ]
  },
  {
   "cell_type": "code",
   "execution_count": 4,
   "metadata": {},
   "outputs": [
    {
     "name": "stdout",
     "output_type": "stream",
     "text": [
      "____________________________________________________________________________________________________\n",
      "Layer (type)                     Output Shape          Param #     Connected to                     \n",
      "====================================================================================================\n",
      "lambda_1 (Lambda)                (None, 66, 200, 3)    0           lambda_input_1[0][0]             \n",
      "____________________________________________________________________________________________________\n",
      "convolution2d_1 (Convolution2D)  (None, 31, 98, 24)    1824        lambda_1[0][0]                   \n",
      "____________________________________________________________________________________________________\n",
      "dropout_1 (Dropout)              (None, 31, 98, 24)    0           convolution2d_1[0][0]            \n",
      "____________________________________________________________________________________________________\n",
      "convolution2d_2 (Convolution2D)  (None, 14, 47, 36)    21636       dropout_1[0][0]                  \n",
      "____________________________________________________________________________________________________\n",
      "dropout_2 (Dropout)              (None, 14, 47, 36)    0           convolution2d_2[0][0]            \n",
      "____________________________________________________________________________________________________\n",
      "convolution2d_3 (Convolution2D)  (None, 5, 22, 48)     43248       dropout_2[0][0]                  \n",
      "____________________________________________________________________________________________________\n",
      "dropout_3 (Dropout)              (None, 5, 22, 48)     0           convolution2d_3[0][0]            \n",
      "____________________________________________________________________________________________________\n",
      "convolution2d_4 (Convolution2D)  (None, 3, 20, 64)     27712       dropout_3[0][0]                  \n",
      "____________________________________________________________________________________________________\n",
      "dropout_4 (Dropout)              (None, 3, 20, 64)     0           convolution2d_4[0][0]            \n",
      "____________________________________________________________________________________________________\n",
      "convolution2d_5 (Convolution2D)  (None, 1, 18, 64)     36928       dropout_4[0][0]                  \n",
      "____________________________________________________________________________________________________\n",
      "dropout_5 (Dropout)              (None, 1, 18, 64)     0           convolution2d_5[0][0]            \n",
      "____________________________________________________________________________________________________\n",
      "flatten_1 (Flatten)              (None, 1152)          0           dropout_5[0][0]                  \n",
      "____________________________________________________________________________________________________\n",
      "dense_1 (Dense)                  (None, 100)           115300      flatten_1[0][0]                  \n",
      "____________________________________________________________________________________________________\n",
      "dense_2 (Dense)                  (None, 50)            5050        dense_1[0][0]                    \n",
      "____________________________________________________________________________________________________\n",
      "dense_3 (Dense)                  (None, 10)            510         dense_2[0][0]                    \n",
      "____________________________________________________________________________________________________\n",
      "dense_4 (Dense)                  (None, 1)             11          dense_3[0][0]                    \n",
      "====================================================================================================\n",
      "Total params: 252,219\n",
      "Trainable params: 252,219\n",
      "Non-trainable params: 0\n",
      "____________________________________________________________________________________________________\n"
     ]
    }
   ],
   "source": [
    "nv_model = real_nvidia_model()\n",
    "\n",
    "nv_model.summary()"
   ]
  },
  {
   "cell_type": "code",
   "execution_count": null,
   "metadata": {},
   "outputs": [],
   "source": []
  },
  {
   "cell_type": "code",
   "execution_count": 5,
   "metadata": {},
   "outputs": [],
   "source": [
    "def mymodel(prob=0.5, dropout_for_dense=False):\n",
    "    \n",
    "    model = Sequential()\n",
    "    \n",
    "    model.add( Lambda(lambda x: x / 255. - 0.5, input_shape=(160, 320, 3)) )\n",
    "    model.add( Cropping2D(cropping=((70, 25), (0, 0))) )\n",
    "    \n",
    "    model.add( Convolution2D(24, 5, 5, subsample=(1, 1), activation='relu') )\n",
    "    #model.add( MaxPooling2D(pool_size=(1, 2)) )\n",
    "    model.add( Dropout(prob) )\n",
    "    \n",
    "    model.add( Convolution2D(36, 5, 5, subsample=(2, 2), activation='relu') )\n",
    "    #model.add( MaxPooling2D(pool_size=(1, 2)) )\n",
    "    model.add( Dropout(prob) )\n",
    "    \n",
    "    model.add( Convolution2D(48, 5, 5, subsample=(2, 2), activation='relu') )\n",
    "    model.add( Dropout(prob) )\n",
    "    \n",
    "    model.add( Convolution2D(64, 3, 3, subsample=(2, 2), activation='relu') )\n",
    "    model.add( Dropout(prob) )\n",
    "    \n",
    "    model.add( Convolution2D(64, 3, 3, subsample=(2, 2), activation='relu') )\n",
    "    model.add( Dropout(prob) )\n",
    "    \n",
    "    model.add( Flatten() )\n",
    "\n",
    "    model.add( Dense(100, activation='relu') )\n",
    "    if dropout_for_dense:\n",
    "        model.add(Dropout(prob))\n",
    "        \n",
    "    model.add( Dense(50, activation='relu') )\n",
    "    if dropout_for_dense:\n",
    "        model.add(Dropout(prob))\n",
    "        \n",
    "    model.add( Dense(10, activation='relu') )\n",
    "    if dropout_for_dense:\n",
    "        model.add(Dropout(prob))\n",
    "    \n",
    "    model.add( Dense(1) )\n",
    "\n",
    "    model.compile(loss='mse', optimizer='adam')\n",
    "    \n",
    "    return model"
   ]
  },
  {
   "cell_type": "code",
   "execution_count": 6,
   "metadata": {},
   "outputs": [
    {
     "name": "stdout",
     "output_type": "stream",
     "text": [
      "____________________________________________________________________________________________________\n",
      "Layer (type)                     Output Shape          Param #     Connected to                     \n",
      "====================================================================================================\n",
      "lambda_2 (Lambda)                (None, 160, 320, 3)   0           lambda_input_2[0][0]             \n",
      "____________________________________________________________________________________________________\n",
      "cropping2d_1 (Cropping2D)        (None, 65, 320, 3)    0           lambda_2[0][0]                   \n",
      "____________________________________________________________________________________________________\n",
      "convolution2d_6 (Convolution2D)  (None, 61, 316, 24)   1824        cropping2d_1[0][0]               \n",
      "____________________________________________________________________________________________________\n",
      "dropout_6 (Dropout)              (None, 61, 316, 24)   0           convolution2d_6[0][0]            \n",
      "____________________________________________________________________________________________________\n",
      "convolution2d_7 (Convolution2D)  (None, 29, 156, 36)   21636       dropout_6[0][0]                  \n",
      "____________________________________________________________________________________________________\n",
      "dropout_7 (Dropout)              (None, 29, 156, 36)   0           convolution2d_7[0][0]            \n",
      "____________________________________________________________________________________________________\n",
      "convolution2d_8 (Convolution2D)  (None, 13, 76, 48)    43248       dropout_7[0][0]                  \n",
      "____________________________________________________________________________________________________\n",
      "dropout_8 (Dropout)              (None, 13, 76, 48)    0           convolution2d_8[0][0]            \n",
      "____________________________________________________________________________________________________\n",
      "convolution2d_9 (Convolution2D)  (None, 6, 37, 64)     27712       dropout_8[0][0]                  \n",
      "____________________________________________________________________________________________________\n",
      "dropout_9 (Dropout)              (None, 6, 37, 64)     0           convolution2d_9[0][0]            \n",
      "____________________________________________________________________________________________________\n",
      "convolution2d_10 (Convolution2D) (None, 2, 18, 64)     36928       dropout_9[0][0]                  \n",
      "____________________________________________________________________________________________________\n",
      "dropout_10 (Dropout)             (None, 2, 18, 64)     0           convolution2d_10[0][0]           \n",
      "____________________________________________________________________________________________________\n",
      "flatten_2 (Flatten)              (None, 2304)          0           dropout_10[0][0]                 \n",
      "____________________________________________________________________________________________________\n",
      "dense_5 (Dense)                  (None, 100)           230500      flatten_2[0][0]                  \n",
      "____________________________________________________________________________________________________\n",
      "dense_6 (Dense)                  (None, 50)            5050        dense_5[0][0]                    \n",
      "____________________________________________________________________________________________________\n",
      "dense_7 (Dense)                  (None, 10)            510         dense_6[0][0]                    \n",
      "____________________________________________________________________________________________________\n",
      "dense_8 (Dense)                  (None, 1)             11          dense_7[0][0]                    \n",
      "====================================================================================================\n",
      "Total params: 367,419\n",
      "Trainable params: 367,419\n",
      "Non-trainable params: 0\n",
      "____________________________________________________________________________________________________\n"
     ]
    }
   ],
   "source": [
    "model = mymodel()\n",
    "\n",
    "model.summary()"
   ]
  },
  {
   "cell_type": "code",
   "execution_count": null,
   "metadata": {},
   "outputs": [],
   "source": []
  },
  {
   "cell_type": "code",
   "execution_count": null,
   "metadata": {},
   "outputs": [],
   "source": []
  }
 ],
 "metadata": {
  "kernelspec": {
   "display_name": "Python 3",
   "language": "python",
   "name": "python3"
  },
  "language_info": {
   "codemirror_mode": {
    "name": "ipython",
    "version": 3
   },
   "file_extension": ".py",
   "mimetype": "text/x-python",
   "name": "python",
   "nbconvert_exporter": "python",
   "pygments_lexer": "ipython3",
   "version": "3.5.2"
  },
  "widgets": {
   "state": {},
   "version": "1.1.2"
  }
 },
 "nbformat": 4,
 "nbformat_minor": 2
}

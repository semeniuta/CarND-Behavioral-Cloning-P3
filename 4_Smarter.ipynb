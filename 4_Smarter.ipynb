{
 "cells": [
  {
   "cell_type": "markdown",
   "metadata": {},
   "source": [
    "https://devblogs.nvidia.com/deep-learning-self-driving-cars/"
   ]
  },
  {
   "cell_type": "code",
   "execution_count": 1,
   "metadata": {},
   "outputs": [],
   "source": [
    "%matplotlib inline\n",
    "%load_ext autoreload\n",
    "%autoreload 2"
   ]
  },
  {
   "cell_type": "code",
   "execution_count": 2,
   "metadata": {},
   "outputs": [
    {
     "name": "stderr",
     "output_type": "stream",
     "text": [
      "Using TensorFlow backend.\n"
     ]
    }
   ],
   "source": [
    "import numpy as np\n",
    "import pandas as pd\n",
    "import tensorflow as tf\n",
    "import os\n",
    "import pickle\n",
    "from sklearn.utils import shuffle\n",
    "from sklearn.model_selection import train_test_split\n",
    "import cv2\n",
    "\n",
    "tf.python.control_flow_ops = tf\n",
    "\n",
    "from keras.models import Sequential\n",
    "from keras.layers import Flatten, Dense, Lambda, Cropping2D, Convolution2D"
   ]
  },
  {
   "cell_type": "code",
   "execution_count": 56,
   "metadata": {
    "collapsed": true
   },
   "outputs": [],
   "source": [
    "import bclone"
   ]
  },
  {
   "cell_type": "code",
   "execution_count": 4,
   "metadata": {
    "collapsed": true
   },
   "outputs": [],
   "source": [
    "DATA_DIR_STD = '../bclone-data-standard'\n",
    "DATA_DIR_NEW = '../my_2018-02-22'"
   ]
  },
  {
   "cell_type": "markdown",
   "metadata": {},
   "source": [
    "```bash\n",
    "python preprocess-driving-log.py --src ../my_2018-02-22/driving_log_original.csv --dst ../my_2018-02-22/driving_log.csv\n",
    "```"
   ]
  },
  {
   "cell_type": "code",
   "execution_count": 5,
   "metadata": {
    "collapsed": true
   },
   "outputs": [],
   "source": [
    "def nvidia_model():\n",
    "    \n",
    "    model = Sequential()\n",
    "    \n",
    "    model.add( Lambda(lambda x: x / 255. - 0.5, input_shape=(160, 320, 3)) )\n",
    "    model.add( Cropping2D(cropping=((70, 25), (0, 0))) )\n",
    "    \n",
    "    model.add( Convolution2D(24, 5, 5, subsample=(2, 2), activation='relu') )\n",
    "    model.add( Convolution2D(36, 5, 5, subsample=(2, 2), activation='relu') )\n",
    "    model.add( Convolution2D(48, 5, 5, subsample=(2, 2), activation='relu') )\n",
    "    \n",
    "    model.add( Convolution2D(64, 3, 3, subsample=(2, 2), activation='relu') )\n",
    "    #model.add( Convolution2D(64, 3, 3, subsample=(2, 2), activation='relu') )\n",
    "\n",
    "    model.add( Flatten() )\n",
    "\n",
    "    model.add( Dense(100) )\n",
    "    model.add( Dense(50) )\n",
    "    model.add( Dense(10) )\n",
    "    model.add( Dense(1) )\n",
    "    \n",
    "    model.compile(loss='mse', optimizer='adam')\n",
    "    \n",
    "    return model"
   ]
  },
  {
   "cell_type": "code",
   "execution_count": 48,
   "metadata": {
    "collapsed": true
   },
   "outputs": [],
   "source": [
    "def do_training(model, log_df, batch_sz, epochs):\n",
    "    \n",
    "    train, valid = train_test_split(log_df, test_size=0.2)\n",
    "    valid_gen = bclone.data_generator(valid, batch_size=batch_sz, controls=['steering'])\n",
    "    train_gen = bclone.data_generator(train, batch_size=batch_sz, controls=['steering'])\n",
    "    \n",
    "    history = bclone.fit_gen(model, train_gen, valid_gen, train, valid, n_epochs=epochs)\n",
    "    \n",
    "    return train, valid, history\n",
    "\n",
    "\n",
    "def do_training_smart(model, log_dataframes, batch_sizes, epochs):\n",
    "    \n",
    "    splitted = [train_test_split(df, test_size=0.2) for df in log_dataframes]\n",
    "    train_dfs = [t for t, v in splitted]\n",
    "    valid_dfs = [v for t, v in splitted]\n",
    "    \n",
    "    valid_gen = bclone.data_generator_from_muiltiple_sets(valid_dfs, batch_sizes, controls=['steering'])\n",
    "    train_gen = bclone.data_generator_from_muiltiple_sets(train_dfs, batch_sizes, controls=['steering'])\n",
    "    \n",
    "    history = model.fit_generator(\n",
    "        train_gen,\n",
    "        samples_per_epoch=sum([len(df) for df in train_dfs])*3,\n",
    "        validation_data=valid_gen,\n",
    "        nb_val_samples=sum([len(df) for df in valid_dfs])*3,\n",
    "        nb_epoch=epochs\n",
    "    )\n",
    "    \n",
    "    return train, valid, history\n",
    "    \n",
    "\n",
    "    "
   ]
  },
  {
   "cell_type": "code",
   "execution_count": null,
   "metadata": {
    "collapsed": true
   },
   "outputs": [],
   "source": []
  },
  {
   "cell_type": "code",
   "execution_count": 24,
   "metadata": {},
   "outputs": [],
   "source": [
    "log_df_std = bclone.load_and_combine_logs(DATA_DIR_STD)\n",
    "log_df_new = bclone.load_and_combine_logs(DATA_DIR_NEW)\n",
    "log_df_all = bclone.load_and_combine_logs(DATA_DIR_STD, DATA_DIR_NEW)"
   ]
  },
  {
   "cell_type": "code",
   "execution_count": 35,
   "metadata": {},
   "outputs": [
    {
     "data": {
      "text/plain": [
       "(8036, 7370, 15406)"
      ]
     },
     "execution_count": 35,
     "metadata": {},
     "output_type": "execute_result"
    }
   ],
   "source": [
    "len(log_df_std), len(log_df_new), len(log_df_all)"
   ]
  },
  {
   "cell_type": "code",
   "execution_count": 37,
   "metadata": {
    "collapsed": true
   },
   "outputs": [],
   "source": [
    "log_df_mixin = log_df_std.append(\n",
    "    shuffle(log_df_new)[:2000], \n",
    "    ignore_index=True\n",
    ")"
   ]
  },
  {
   "cell_type": "code",
   "execution_count": 44,
   "metadata": {},
   "outputs": [],
   "source": [
    "model = nvidia_model()\n",
    "\n",
    "#model.load_weights('model.h5')\n",
    "#model.evaluate_generator(valid_gen_all, len(log_df_valid))"
   ]
  },
  {
   "cell_type": "code",
   "execution_count": null,
   "metadata": {},
   "outputs": [],
   "source": []
  },
  {
   "cell_type": "code",
   "execution_count": 38,
   "metadata": {},
   "outputs": [],
   "source": [
    "#t1, v1, h1 = do_training(model_1, log_df_std, batch_sz=20, epochs=1)\n",
    "#t2, v2, h2 = do_training(model_2, log_df_all, batch_sz=20, epochs=3)"
   ]
  },
  {
   "cell_type": "code",
   "execution_count": 59,
   "metadata": {},
   "outputs": [
    {
     "name": "stdout",
     "output_type": "stream",
     "text": [
      "Epoch 1/2\n",
      "36972/36972 [==============================] - 80s - loss: 0.0159 - val_loss: 0.0148\n",
      "Epoch 2/2\n",
      "36936/36972 [============================>.] - ETA: 0s - loss: 0.0157"
     ]
    },
    {
     "name": "stderr",
     "output_type": "stream",
     "text": [
      "/home/carnd/anaconda3/envs/carnd-term1/lib/python3.5/site-packages/keras/engine/training.py:1569: UserWarning: Epoch comprised more than `samples_per_epoch` samples, which might affect learning results. Set `samples_per_epoch` correctly to avoid this warning.\n",
      "  warnings.warn('Epoch comprised more than '\n"
     ]
    },
    {
     "name": "stdout",
     "output_type": "stream",
     "text": [
      "37080/36972 [==============================] - 79s - loss: 0.0157 - val_loss: 0.0145\n"
     ]
    },
    {
     "ename": "NameError",
     "evalue": "name 'train' is not defined",
     "output_type": "error",
     "traceback": [
      "\u001b[0;31m---------------------------------------------------------------------------\u001b[0m",
      "\u001b[0;31mNameError\u001b[0m                                 Traceback (most recent call last)",
      "\u001b[0;32m<ipython-input-59-23e535d9d7c2>\u001b[0m in \u001b[0;36m<module>\u001b[0;34m()\u001b[0m\n\u001b[0;32m----> 1\u001b[0;31m \u001b[0mt_\u001b[0m\u001b[0;34m,\u001b[0m \u001b[0mv_\u001b[0m\u001b[0;34m,\u001b[0m \u001b[0mh_\u001b[0m \u001b[0;34m=\u001b[0m \u001b[0mdo_training_smart\u001b[0m\u001b[0;34m(\u001b[0m\u001b[0mmodel\u001b[0m\u001b[0;34m,\u001b[0m \u001b[0;34m[\u001b[0m\u001b[0mlog_df_std\u001b[0m\u001b[0;34m,\u001b[0m \u001b[0mlog_df_new\u001b[0m\u001b[0;34m]\u001b[0m\u001b[0;34m,\u001b[0m \u001b[0;34m[\u001b[0m\u001b[0;36m40\u001b[0m\u001b[0;34m,\u001b[0m \u001b[0;36m8\u001b[0m\u001b[0;34m]\u001b[0m\u001b[0;34m,\u001b[0m \u001b[0mepochs\u001b[0m\u001b[0;34m=\u001b[0m\u001b[0;36m2\u001b[0m\u001b[0;34m)\u001b[0m\u001b[0;34m\u001b[0m\u001b[0m\n\u001b[0m",
      "\u001b[0;32m<ipython-input-48-0d75b57cfa21>\u001b[0m in \u001b[0;36mdo_training_smart\u001b[0;34m(model, log_dataframes, batch_sizes, epochs)\u001b[0m\n\u001b[1;32m     27\u001b[0m     )\n\u001b[1;32m     28\u001b[0m \u001b[0;34m\u001b[0m\u001b[0m\n\u001b[0;32m---> 29\u001b[0;31m     \u001b[0;32mreturn\u001b[0m \u001b[0mtrain\u001b[0m\u001b[0;34m,\u001b[0m \u001b[0mvalid\u001b[0m\u001b[0;34m,\u001b[0m \u001b[0mhistory\u001b[0m\u001b[0;34m\u001b[0m\u001b[0m\n\u001b[0m\u001b[1;32m     30\u001b[0m \u001b[0;34m\u001b[0m\u001b[0m\n\u001b[1;32m     31\u001b[0m \u001b[0;34m\u001b[0m\u001b[0m\n",
      "\u001b[0;31mNameError\u001b[0m: name 'train' is not defined"
     ]
    }
   ],
   "source": [
    "t_, v_, h_ = do_training_smart(model, [log_df_std, log_df_new], [40, 8], epochs=2)"
   ]
  },
  {
   "cell_type": "code",
   "execution_count": null,
   "metadata": {
    "collapsed": true
   },
   "outputs": [],
   "source": []
  },
  {
   "cell_type": "code",
   "execution_count": null,
   "metadata": {},
   "outputs": [],
   "source": [
    "\n"
   ]
  },
  {
   "cell_type": "code",
   "execution_count": null,
   "metadata": {
    "collapsed": true
   },
   "outputs": [],
   "source": []
  },
  {
   "cell_type": "code",
   "execution_count": null,
   "metadata": {},
   "outputs": [],
   "source": []
  },
  {
   "cell_type": "code",
   "execution_count": null,
   "metadata": {
    "collapsed": true
   },
   "outputs": [],
   "source": []
  },
  {
   "cell_type": "code",
   "execution_count": null,
   "metadata": {
    "collapsed": true
   },
   "outputs": [],
   "source": []
  },
  {
   "cell_type": "code",
   "execution_count": null,
   "metadata": {
    "collapsed": true
   },
   "outputs": [],
   "source": []
  },
  {
   "cell_type": "code",
   "execution_count": null,
   "metadata": {
    "collapsed": true
   },
   "outputs": [],
   "source": []
  },
  {
   "cell_type": "code",
   "execution_count": 60,
   "metadata": {
    "collapsed": true
   },
   "outputs": [],
   "source": [
    "model.save('model3.h5')"
   ]
  },
  {
   "cell_type": "code",
   "execution_count": null,
   "metadata": {
    "collapsed": true
   },
   "outputs": [],
   "source": []
  },
  {
   "cell_type": "code",
   "execution_count": null,
   "metadata": {
    "collapsed": true
   },
   "outputs": [],
   "source": []
  }
 ],
 "metadata": {
  "kernelspec": {
   "display_name": "Python 3",
   "language": "python",
   "name": "python3"
  },
  "language_info": {
   "codemirror_mode": {
    "name": "ipython",
    "version": 3
   },
   "file_extension": ".py",
   "mimetype": "text/x-python",
   "name": "python",
   "nbconvert_exporter": "python",
   "pygments_lexer": "ipython3",
   "version": "3.5.2"
  },
  "widgets": {
   "state": {},
   "version": "1.1.2"
  }
 },
 "nbformat": 4,
 "nbformat_minor": 2
}

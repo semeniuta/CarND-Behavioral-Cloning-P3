{
 "cells": [
  {
   "cell_type": "code",
   "execution_count": 1,
   "metadata": {},
   "outputs": [],
   "source": [
    "%matplotlib inline\n",
    "%load_ext autoreload\n",
    "%autoreload 2"
   ]
  },
  {
   "cell_type": "code",
   "execution_count": 2,
   "metadata": {},
   "outputs": [],
   "source": [
    "import pickle\n",
    "import numpy as np\n",
    "import pandas as pd\n",
    "import os"
   ]
  },
  {
   "cell_type": "code",
   "execution_count": 3,
   "metadata": {},
   "outputs": [],
   "source": [
    "import bclone"
   ]
  },
  {
   "cell_type": "code",
   "execution_count": 4,
   "metadata": {},
   "outputs": [],
   "source": [
    "DATA_DIR = '../bclone-data-standard'"
   ]
  },
  {
   "cell_type": "code",
   "execution_count": 5,
   "metadata": {},
   "outputs": [],
   "source": [
    "df = bclone.load_log(DATA_DIR)\n",
    "df1 = df[:5]"
   ]
  },
  {
   "cell_type": "code",
   "execution_count": 6,
   "metadata": {},
   "outputs": [
    {
     "data": {
      "text/html": [
       "<div>\n",
       "<style scoped>\n",
       "    .dataframe tbody tr th:only-of-type {\n",
       "        vertical-align: middle;\n",
       "    }\n",
       "\n",
       "    .dataframe tbody tr th {\n",
       "        vertical-align: top;\n",
       "    }\n",
       "\n",
       "    .dataframe thead th {\n",
       "        text-align: right;\n",
       "    }\n",
       "</style>\n",
       "<table border=\"1\" class=\"dataframe\">\n",
       "  <thead>\n",
       "    <tr style=\"text-align: right;\">\n",
       "      <th></th>\n",
       "      <th>center</th>\n",
       "      <th>left</th>\n",
       "      <th>right</th>\n",
       "      <th>steering</th>\n",
       "      <th>throttle</th>\n",
       "      <th>brake</th>\n",
       "      <th>speed</th>\n",
       "    </tr>\n",
       "  </thead>\n",
       "  <tbody>\n",
       "    <tr>\n",
       "      <th>0</th>\n",
       "      <td>../bclone-data-standard/IMG/center_2016_12_01_...</td>\n",
       "      <td>../bclone-data-standard/IMG/left_2016_12_01_13...</td>\n",
       "      <td>../bclone-data-standard/IMG/right_2016_12_01_1...</td>\n",
       "      <td>0.0</td>\n",
       "      <td>0.0</td>\n",
       "      <td>0.0</td>\n",
       "      <td>22.148290</td>\n",
       "    </tr>\n",
       "    <tr>\n",
       "      <th>1</th>\n",
       "      <td>../bclone-data-standard/IMG/center_2016_12_01_...</td>\n",
       "      <td>../bclone-data-standard/IMG/left_2016_12_01_13...</td>\n",
       "      <td>../bclone-data-standard/IMG/right_2016_12_01_1...</td>\n",
       "      <td>0.0</td>\n",
       "      <td>0.0</td>\n",
       "      <td>0.0</td>\n",
       "      <td>21.879630</td>\n",
       "    </tr>\n",
       "    <tr>\n",
       "      <th>2</th>\n",
       "      <td>../bclone-data-standard/IMG/center_2016_12_01_...</td>\n",
       "      <td>../bclone-data-standard/IMG/left_2016_12_01_13...</td>\n",
       "      <td>../bclone-data-standard/IMG/right_2016_12_01_1...</td>\n",
       "      <td>0.0</td>\n",
       "      <td>0.0</td>\n",
       "      <td>0.0</td>\n",
       "      <td>1.453011</td>\n",
       "    </tr>\n",
       "    <tr>\n",
       "      <th>3</th>\n",
       "      <td>../bclone-data-standard/IMG/center_2016_12_01_...</td>\n",
       "      <td>../bclone-data-standard/IMG/left_2016_12_01_13...</td>\n",
       "      <td>../bclone-data-standard/IMG/right_2016_12_01_1...</td>\n",
       "      <td>0.0</td>\n",
       "      <td>0.0</td>\n",
       "      <td>0.0</td>\n",
       "      <td>1.438419</td>\n",
       "    </tr>\n",
       "    <tr>\n",
       "      <th>4</th>\n",
       "      <td>../bclone-data-standard/IMG/center_2016_12_01_...</td>\n",
       "      <td>../bclone-data-standard/IMG/left_2016_12_01_13...</td>\n",
       "      <td>../bclone-data-standard/IMG/right_2016_12_01_1...</td>\n",
       "      <td>0.0</td>\n",
       "      <td>0.0</td>\n",
       "      <td>0.0</td>\n",
       "      <td>1.418236</td>\n",
       "    </tr>\n",
       "  </tbody>\n",
       "</table>\n",
       "</div>"
      ],
      "text/plain": [
       "                                              center  \\\n",
       "0  ../bclone-data-standard/IMG/center_2016_12_01_...   \n",
       "1  ../bclone-data-standard/IMG/center_2016_12_01_...   \n",
       "2  ../bclone-data-standard/IMG/center_2016_12_01_...   \n",
       "3  ../bclone-data-standard/IMG/center_2016_12_01_...   \n",
       "4  ../bclone-data-standard/IMG/center_2016_12_01_...   \n",
       "\n",
       "                                                left  \\\n",
       "0  ../bclone-data-standard/IMG/left_2016_12_01_13...   \n",
       "1  ../bclone-data-standard/IMG/left_2016_12_01_13...   \n",
       "2  ../bclone-data-standard/IMG/left_2016_12_01_13...   \n",
       "3  ../bclone-data-standard/IMG/left_2016_12_01_13...   \n",
       "4  ../bclone-data-standard/IMG/left_2016_12_01_13...   \n",
       "\n",
       "                                               right  steering  throttle  \\\n",
       "0  ../bclone-data-standard/IMG/right_2016_12_01_1...       0.0       0.0   \n",
       "1  ../bclone-data-standard/IMG/right_2016_12_01_1...       0.0       0.0   \n",
       "2  ../bclone-data-standard/IMG/right_2016_12_01_1...       0.0       0.0   \n",
       "3  ../bclone-data-standard/IMG/right_2016_12_01_1...       0.0       0.0   \n",
       "4  ../bclone-data-standard/IMG/right_2016_12_01_1...       0.0       0.0   \n",
       "\n",
       "   brake      speed  \n",
       "0    0.0  22.148290  \n",
       "1    0.0  21.879630  \n",
       "2    0.0   1.453011  \n",
       "3    0.0   1.438419  \n",
       "4    0.0   1.418236  "
      ]
     },
     "execution_count": 6,
     "metadata": {},
     "output_type": "execute_result"
    }
   ],
   "source": [
    "bclone.add_data_dir_info_to_df(df1, DATA_DIR)\n",
    "df1"
   ]
  },
  {
   "cell_type": "code",
   "execution_count": null,
   "metadata": {},
   "outputs": [],
   "source": []
  }
 ],
 "metadata": {
  "kernelspec": {
   "display_name": "Python 3",
   "language": "python",
   "name": "python3"
  },
  "language_info": {
   "codemirror_mode": {
    "name": "ipython",
    "version": 3
   },
   "file_extension": ".py",
   "mimetype": "text/x-python",
   "name": "python",
   "nbconvert_exporter": "python",
   "pygments_lexer": "ipython3",
   "version": "3.5.2"
  },
  "widgets": {
   "state": {},
   "version": "1.1.2"
  }
 },
 "nbformat": 4,
 "nbformat_minor": 2
}

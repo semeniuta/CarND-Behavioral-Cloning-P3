{
 "cells": [
  {
   "cell_type": "markdown",
   "metadata": {},
   "source": [
    "Image data from the central image, just steering, and only 1 FC-layer"
   ]
  },
  {
   "cell_type": "code",
   "execution_count": 1,
   "metadata": {},
   "outputs": [],
   "source": [
    "%matplotlib inline\n",
    "%load_ext autoreload\n",
    "%autoreload 2"
   ]
  },
  {
   "cell_type": "code",
   "execution_count": 2,
   "metadata": {},
   "outputs": [
    {
     "name": "stderr",
     "output_type": "stream",
     "text": [
      "Using TensorFlow backend.\n"
     ]
    }
   ],
   "source": [
    "import numpy as np\n",
    "import pandas as pd\n",
    "import tensorflow as tf\n",
    "import os\n",
    "import pickle\n",
    "\n",
    "tf.python.control_flow_ops = tf\n",
    "\n",
    "from keras.models import Sequential\n",
    "from keras.layers import Flatten, Dense"
   ]
  },
  {
   "cell_type": "code",
   "execution_count": 3,
   "metadata": {},
   "outputs": [],
   "source": [
    "DATA_DIR = '../bclone-data-standard'"
   ]
  },
  {
   "cell_type": "code",
   "execution_count": 4,
   "metadata": {},
   "outputs": [],
   "source": [
    "import bclone"
   ]
  },
  {
   "cell_type": "code",
   "execution_count": 5,
   "metadata": {},
   "outputs": [],
   "source": [
    "images, controls = bclone.load_data(DATA_DIR, im_groups=['center'], controls=['steering'])"
   ]
  },
  {
   "cell_type": "code",
   "execution_count": 6,
   "metadata": {},
   "outputs": [
    {
     "data": {
      "text/plain": [
       "((8036, 160, 320, 3), (8036,), (160, 320, 3))"
      ]
     },
     "execution_count": 6,
     "metadata": {},
     "output_type": "execute_result"
    }
   ],
   "source": [
    "X_all = images['center']\n",
    "y_all = np.array(controls['steering'])\n",
    "\n",
    "image_shape = X_all.shape[1:]\n",
    "\n",
    "X_all.shape, y_all.shape, image_shape"
   ]
  },
  {
   "cell_type": "code",
   "execution_count": 7,
   "metadata": {},
   "outputs": [],
   "source": [
    "model = Sequential()\n",
    "model.add(Flatten(input_shape=image_shape))\n",
    "model.add(Dense(1))\n",
    "model.compile(loss='mse', optimizer='adam')"
   ]
  },
  {
   "cell_type": "code",
   "execution_count": 8,
   "metadata": {},
   "outputs": [
    {
     "name": "stdout",
     "output_type": "stream",
     "text": [
      "Train on 6428 samples, validate on 1608 samples\n",
      "Epoch 1/10\n",
      "6428/6428 [==============================] - 7s - loss: 7640498.3879 - val_loss: 5893.8107\n",
      "Epoch 2/10\n",
      "6428/6428 [==============================] - 6s - loss: 4013.6288 - val_loss: 2858.4340\n",
      "Epoch 3/10\n",
      "6428/6428 [==============================] - 6s - loss: 2614.0846 - val_loss: 1936.3974\n",
      "Epoch 4/10\n",
      "6428/6428 [==============================] - 8s - loss: 2173.2884 - val_loss: 2596.5567\n",
      "Epoch 5/10\n",
      "6428/6428 [==============================] - 7s - loss: 2195.4774 - val_loss: 1668.8359\n",
      "Epoch 6/10\n",
      "6428/6428 [==============================] - 8s - loss: 1861.7314 - val_loss: 2415.7643\n",
      "Epoch 7/10\n",
      "6428/6428 [==============================] - 8s - loss: 2167.4662 - val_loss: 2181.2573\n",
      "Epoch 8/10\n",
      "6428/6428 [==============================] - 7s - loss: 1952.1203 - val_loss: 2814.8983\n",
      "Epoch 9/10\n",
      "6428/6428 [==============================] - 7s - loss: 5153.3655 - val_loss: 17370.3991\n",
      "Epoch 10/10\n",
      "6428/6428 [==============================] - 8s - loss: 320039.1070 - val_loss: 91884.4028\n"
     ]
    }
   ],
   "source": [
    "history = model.fit(X_all, y_all, validation_split=0.2, shuffle=True, nb_epoch=10)\n",
    "#model.save('simple_model.h5')"
   ]
  },
  {
   "cell_type": "code",
   "execution_count": null,
   "metadata": {},
   "outputs": [],
   "source": []
  },
  {
   "cell_type": "code",
   "execution_count": null,
   "metadata": {},
   "outputs": [],
   "source": []
  }
 ],
 "metadata": {
  "kernelspec": {
   "display_name": "Python 3",
   "language": "python",
   "name": "python3"
  },
  "language_info": {
   "codemirror_mode": {
    "name": "ipython",
    "version": 3
   },
   "file_extension": ".py",
   "mimetype": "text/x-python",
   "name": "python",
   "nbconvert_exporter": "python",
   "pygments_lexer": "ipython3",
   "version": "3.5.2"
  },
  "widgets": {
   "state": {},
   "version": "1.1.2"
  }
 },
 "nbformat": 4,
 "nbformat_minor": 2
}
